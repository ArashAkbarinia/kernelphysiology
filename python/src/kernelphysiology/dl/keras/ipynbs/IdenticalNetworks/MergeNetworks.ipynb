{
 "cells": [
  {
   "cell_type": "code",
   "execution_count": 1,
   "metadata": {},
   "outputs": [
    {
     "name": "stderr",
     "output_type": "stream",
     "text": [
      "/usr/local/lib/python3.5/dist-packages/h5py/__init__.py:36: FutureWarning: Conversion of the second argument of issubdtype from `float` to `np.floating` is deprecated. In future, it will be treated as `np.float64 == np.dtype(float).type`.\n",
      "  from ._conv import register_converters as _register_converters\n",
      "Using TensorFlow backend.\n"
     ]
    }
   ],
   "source": [
    "import cv2\n",
    "import keras\n",
    "import numpy as np\n",
    "from scipy.stats import pearsonr\n",
    "from sklearn.metrics import mutual_info_score, normalized_mutual_info_score\n",
    "import matplotlib.pyplot as plt"
   ]
  },
  {
   "cell_type": "code",
   "execution_count": 2,
   "metadata": {},
   "outputs": [
    {
     "name": "stderr",
     "output_type": "stream",
     "text": [
      "/home/arash/tensorflow3/lib/python3.5/site-packages/keras/engine/saving.py:270: UserWarning: No training configuration found in save file: the model was *not* compiled. Compile it manually.\n",
      "  warnings.warn('No training configuration found in save file: '\n"
     ]
    }
   ],
   "source": [
    "# list of networks to be studies\n",
    "path1 = '/home/arash/Desktop/giessen/good/models/resnet50_org.h5'\n",
    "path2 = '/home/arash/Desktop/giessen/good/models/resnet50_cv.h5'\n",
    "path3 = '/home/arash/Desktop/giessen/good/models/resnet50_il.h5'\n",
    "network1 = keras.models.load_model(path1)\n",
    "network2 = keras.models.load_model(path2)\n",
    "#network3 = keras.models.load_model(path3)"
   ]
  },
  {
   "cell_type": "code",
   "execution_count": 3,
   "metadata": {},
   "outputs": [],
   "source": [
    "# getting the weights, names, their difference for convolutional layers and depthwise conv\n",
    "# keras.layers.core.Dense\n",
    "def merge_weights(network_des, network_src, which_layers, which_kernels):\n",
    "    for i, layer_name in enumerate(which_layers):\n",
    "        layer_des = network_des.get_layer(layer_name).get_weights()\n",
    "        layer_src = network_src.get_layer(layer_name).get_weights()\n",
    "        for j in which_kernels[i]:\n",
    "            layer_des[0][:,:,:,j] = layer_src[0][:,:,:,j]\n",
    "            layer_des[1][j] = layer_src[1][j]\n",
    "        network_des.get_layer(layer_name).set_weights(layer_des)\n",
    "    return network_des"
   ]
  },
  {
   "cell_type": "code",
   "execution_count": 4,
   "metadata": {},
   "outputs": [],
   "source": [
    "which_layers = ['res2a_branch2c', 'res3a_branch2c', 'res3c_branch2c', 'res4e_branch2c', 'res4f_branch2c']\n",
    "which_kernels = [[204], [117], \n",
    "                 [27, 36, 109, 129, 138, 155, 190, 195, 260, 301, 368, 406, 456, 462, 478, 482, 493, 511],\n",
    "                 [280, 422, 866], [831, 866]]"
   ]
  },
  {
   "cell_type": "code",
   "execution_count": null,
   "metadata": {},
   "outputs": [],
   "source": [
    "network1_cv = merge_weights(network1, network2, which_layers, which_kernels)"
   ]
  },
  {
   "cell_type": "code",
   "execution_count": 18,
   "metadata": {},
   "outputs": [
    {
     "name": "stdout",
     "output_type": "stream",
     "text": [
      "-0.0014677551\n",
      "(512,)\n",
      "(1, 1, 128, 512)\n"
     ]
    }
   ],
   "source": [
    "n1 = network1.get_layer('res3c_branch2c')\n",
    "n2 = network2.get_layer('res3c_branch2c')\n",
    "print(np.sum(n1.get_weights()[1]-n2.get_weights()[1]))\n",
    "print(n1.get_weights()[1].shape)\n",
    "print(n1.get_weights()[0].shape)"
   ]
  },
  {
   "cell_type": "code",
   "execution_count": 23,
   "metadata": {},
   "outputs": [
    {
     "name": "stdout",
     "output_type": "stream",
     "text": [
      "-0.0014681607\n",
      "(512,)\n",
      "(1, 1, 128, 512)\n"
     ]
    }
   ],
   "source": [
    "n1 = network1.get_layer('res3c_branch2c')\n",
    "n2 = network2.get_layer('res3c_branch2c')\n",
    "print(np.sum(n1.get_weights()[1]-n2.get_weights()[1]))\n",
    "print(n1.get_weights()[1].shape)\n",
    "print(n1.get_weights()[0].shape)"
   ]
  },
  {
   "cell_type": "code",
   "execution_count": 26,
   "metadata": {},
   "outputs": [
    {
     "name": "stdout",
     "output_type": "stream",
     "text": [
      "0.0\n",
      "(512,)\n",
      "(1, 1, 128, 512)\n"
     ]
    }
   ],
   "source": [
    "n1 = network2.get_layer('res3c_branch2c')\n",
    "n2 = network1_cv.get_layer('res3c_branch2c')\n",
    "print(np.sum(n1.get_weights()[1][kernels]-n2.get_weights()[1][kernels]))\n",
    "print(n1.get_weights()[1].shape)\n",
    "print(n1.get_weights()[0].shape)"
   ]
  },
  {
   "cell_type": "code",
   "execution_count": 27,
   "metadata": {},
   "outputs": [],
   "source": [
    "image_path = '/home/arash/Software/repositories/kernelphysiology/data/computervision/ilsvrc/ilsvrc2012/raw-data/validation/n03201208/ILSVRC2012_val_00000503.JPEG'\n",
    "image = keras.preprocessing.image.load_img(image_path, target_size=(224,224))\n",
    "x = keras.preprocessing.image.img_to_array(image)\n",
    "x_pre = keras.applications.resnet50.preprocess_input(x.copy())\n",
    "x_pre = np.expand_dims(x_pre, axis=0)"
   ]
  },
  {
   "cell_type": "code",
   "execution_count": 28,
   "metadata": {},
   "outputs": [],
   "source": [
    "activities1 = network1_cv.predict(x_pre)"
   ]
  },
  {
   "cell_type": "code",
   "execution_count": 31,
   "metadata": {},
   "outputs": [],
   "source": [
    "activities1_org = network1.predict(x_pre)"
   ]
  },
  {
   "cell_type": "code",
   "execution_count": 30,
   "metadata": {},
   "outputs": [
    {
     "data": {
      "text/plain": [
       "532"
      ]
     },
     "execution_count": 30,
     "metadata": {},
     "output_type": "execute_result"
    }
   ],
   "source": [
    "activities1.argmax()"
   ]
  },
  {
   "cell_type": "code",
   "execution_count": 32,
   "metadata": {},
   "outputs": [
    {
     "data": {
      "text/plain": [
       "532"
      ]
     },
     "execution_count": 32,
     "metadata": {},
     "output_type": "execute_result"
    }
   ],
   "source": [
    "activities1_org.argmax()"
   ]
  },
  {
   "cell_type": "code",
   "execution_count": 6,
   "metadata": {},
   "outputs": [],
   "source": [
    "network1_cv.save('restnet50_corr50_merged.h5')"
   ]
  }
 ],
 "metadata": {
  "kernelspec": {
   "display_name": "Python 3",
   "language": "python",
   "name": "python3"
  },
  "language_info": {
   "codemirror_mode": {
    "name": "ipython",
    "version": 3
   },
   "file_extension": ".py",
   "mimetype": "text/x-python",
   "name": "python",
   "nbconvert_exporter": "python",
   "pygments_lexer": "ipython3",
   "version": "3.5.2"
  }
 },
 "nbformat": 4,
 "nbformat_minor": 2
}
