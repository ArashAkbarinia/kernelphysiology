{
 "cells": [
  {
   "cell_type": "code",
   "execution_count": 21,
   "metadata": {},
   "outputs": [],
   "source": [
    "import numpy as np\n",
    "import pandas as pd\n",
    "\n",
    "import os\n",
    "import glob\n",
    "\n",
    "import ntpath\n",
    "\n",
    "import matplotlib.pyplot as plt"
   ]
  },
  {
   "cell_type": "code",
   "execution_count": 5,
   "metadata": {},
   "outputs": [],
   "source": [
    "num_samples = 50\n",
    "num_classes = 1000\n",
    "num_images = num_samples * num_classes\n",
    "class_inds = np.zeros((num_classes, 2))\n",
    "for j, i in enumerate(range(0, num_images, num_samples)):\n",
    "    class_inds[j, :] = [i, i + num_samples]\n",
    "\n",
    "class ResultSummary():\n",
    "    name = None\n",
    "    top1_predictions = None\n",
    "    top5_predictions = None\n",
    "    test_index = 0\n",
    "    \n",
    "    def __init__(self, name, num_tests):\n",
    "        self.name = name\n",
    "        self.top1_predictions = np.zeros((num_images, num_tests))\n",
    "        self.top5_predictions = np.zeros((num_images, num_tests))\n",
    "\n",
    "    def add_prediction(self, predictions):\n",
    "        self.top1_predictions[:, self.test_index] = predictions[:, 0]\n",
    "        self.top5_predictions[:, self.test_index] = predictions[:, 1]\n",
    "        self.test_index += 1"
   ]
  },
  {
   "cell_type": "code",
   "execution_count": 42,
   "metadata": {},
   "outputs": [],
   "source": [
    "network_names = [\n",
    "    'vgg16', 'vgg19',\n",
    "    'densenet121', 'densenet169', 'densenet201',\n",
    "    'mobilenet', 'mobilenet_v2',\n",
    "    'nasnetmobile', 'nasnetlarge',\n",
    "    'resnet50', 'inception_v3', 'inception_resnet_v2', 'xception',\n",
    "]\n",
    "network_names = ['resnet50', 'nasnetlarge']\n",
    "\n",
    "input_folder = '/home/arash/Desktop/KerasPredictions/'\n",
    "output_folder = '/home/arash/Desktop/KerasResults/'\n",
    "if not os.path.exists(output_folder):\n",
    "    os.mkdir(output_folder)\n",
    "\n",
    "for experiment_input in glob.glob(input_folder + '/KerasChromacity/'):\n",
    "    network_predictions = {}\n",
    "    test_names= []\n",
    "\n",
    "    experiment_name = experiment_input.split('/')[-2]\n",
    "    experiment_output = output_folder + '/' + experiment_name + '/'\n",
    "    if not os.path.exists(experiment_output):\n",
    "        os.mkdir(experiment_output)\n",
    "    for net_id, current_network in enumerate(network_names):\n",
    "        csv_files = sorted(glob.glob(experiment_input + '/' + current_network + '/*.csv'))\n",
    "        network_predictions[current_network] = ResultSummary(current_network, len(csv_files))\n",
    "        for file in csv_files:\n",
    "            if net_id == 0:\n",
    "                test_name = ntpath.basename(file)\n",
    "                test_name = test_name.replace(current_network, '')\n",
    "                test_names.append(test_name.replace('.csv', ''))\n",
    "            predictions = np.loadtxt(file, delimiter=',')\n",
    "            network_predictions[current_network].add_prediction(predictions)\n",
    "    for test_id in range(len(csv_files)):\n",
    "        (pairwise_comparison1, pairwise_comparison5, pairwise_comparison_classes1, pairwise_comparison_classes5) = report_correlation(network_predictions, test_id)\n",
    "        output_file = experiment_output + '/top1_corr' + test_names[test_id] + '.csv'\n",
    "        np.savetxt(output_file, pairwise_comparison1, delimiter=',')\n",
    "        output_file = experiment_output + '/top5_corr' + test_names[test_id] + '.csv'\n",
    "        np.savetxt(output_file, pairwise_comparison5, delimiter=',')\n",
    "        if len(network_names) == 2:\n",
    "            output_file = experiment_output + '/top1_corr_class' + test_names[test_id] + '.csv'\n",
    "            np.savetxt(output_file, pairwise_comparison_classes1[0,1,:].flatten(), delimiter=',')\n",
    "            output_file = experiment_output + '/top5_corr_class' + test_names[test_id] + '.csv'\n",
    "            np.savetxt(output_file, pairwise_comparison_classes5[0,1,:].flatten(), delimiter=',')"
   ]
  },
  {
   "cell_type": "code",
   "execution_count": 35,
   "metadata": {},
   "outputs": [],
   "source": [
    "num_networks = len(network_names)\n",
    "def report_correlation(network_predictions, test_id):\n",
    "    pairwise_comparison1 = np.ones((num_networks, num_networks))\n",
    "    pairwise_comparison5 = np.ones((num_networks, num_networks))\n",
    "    pairwise_comparison_classes1 = np.ones((num_networks, num_networks, num_classes))\n",
    "    pairwise_comparison_classes5 = np.ones((num_networks, num_networks, num_classes))\n",
    "    for i in range(num_networks - 1):\n",
    "        name_i = network_names[i]\n",
    "        pred_i = network_predictions[name_i].top1_predictions[:, test_id]\n",
    "        pred_i5 = network_predictions[name_i].top5_predictions[:, test_id]\n",
    "        for j in range(i + 1, num_networks):\n",
    "            name_j = network_names[j]\n",
    "            pred_j = network_predictions[name_j].top1_predictions[:, test_id]\n",
    "            pred_j5 = network_predictions[name_j].top5_predictions[:, test_id]\n",
    "\n",
    "            (corr_coeff, each_class) = get_all_classes(pred_i, pred_j)\n",
    "            pairwise_comparison1[i, j] = corr_coeff\n",
    "            pairwise_comparison1[j, i] = corr_coeff\n",
    "            pairwise_comparison_classes1[i, j, :] = each_class\n",
    "            pairwise_comparison_classes1[j, i, :] = each_class\n",
    "\n",
    "            (corr_coeff, each_class) = get_all_classes(pred_i5, pred_j5)\n",
    "            pairwise_comparison5[i, j] = corr_coeff\n",
    "            pairwise_comparison5[j, i] = corr_coeff\n",
    "            pairwise_comparison_classes5[i, j, :] = each_class\n",
    "            pairwise_comparison_classes5[j, i, :] = each_class\n",
    "    return (pairwise_comparison1, pairwise_comparison5, pairwise_comparison_classes1, pairwise_comparison_classes5)\n",
    "\n",
    "\n",
    "def get_all_classes(pred_i, pred_j):\n",
    "    all_classes = get_corr(pred_i, pred_j)\n",
    "    each_class = [0] * num_classes\n",
    "    for i in range(num_classes):\n",
    "        si = int(class_inds[i, 0])\n",
    "        ei = int(class_inds[i, 1])\n",
    "        each_class[i] = get_corr(pred_i[si:ei], pred_j[si:ei])\n",
    "    return (all_classes, each_class)\n",
    "\n",
    "def get_corr(pred_i, pred_j):\n",
    "    corr_coeff = np.sum(pred_i == pred_j) / pred_i.shape[0]\n",
    "    return corr_coeff  "
   ]
  },
  {
   "cell_type": "code",
   "execution_count": 37,
   "metadata": {},
   "outputs": [
    {
     "data": {
      "text/plain": [
       "(2, 2, 1000)"
      ]
     },
     "execution_count": 37,
     "metadata": {},
     "output_type": "execute_result"
    }
   ],
   "source": [
    "pairwise_comparison_classes1.shape"
   ]
  },
  {
   "cell_type": "code",
   "execution_count": 39,
   "metadata": {},
   "outputs": [],
   "source": [
    "np.savetxt('arash.csv', pairwise_comparison_classes1[0,1,:].flatten(), delimiter=',')"
   ]
  },
  {
   "cell_type": "code",
   "execution_count": 40,
   "metadata": {},
   "outputs": [
    {
     "data": {
      "text/plain": [
       "413"
      ]
     },
     "execution_count": 40,
     "metadata": {},
     "output_type": "execute_result"
    }
   ],
   "source": [
    "np.argmin(pairwise_comparison_classes1[0,1,:].flatten())"
   ]
  },
  {
   "cell_type": "code",
   "execution_count": 41,
   "metadata": {},
   "outputs": [
    {
     "data": {
      "text/plain": [
       "0.56"
      ]
     },
     "execution_count": 41,
     "metadata": {},
     "output_type": "execute_result"
    }
   ],
   "source": [
    "pairwise_comparison_classes1[0,1,:].flatten().min()"
   ]
  },
  {
   "cell_type": "code",
   "execution_count": null,
   "metadata": {},
   "outputs": [],
   "source": []
  }
 ],
 "metadata": {
  "kernelspec": {
   "display_name": "Python 3",
   "language": "python",
   "name": "python3"
  },
  "language_info": {
   "codemirror_mode": {
    "name": "ipython",
    "version": 3
   },
   "file_extension": ".py",
   "mimetype": "text/x-python",
   "name": "python",
   "nbconvert_exporter": "python",
   "pygments_lexer": "ipython3",
   "version": "3.6.7"
  }
 },
 "nbformat": 4,
 "nbformat_minor": 2
}
